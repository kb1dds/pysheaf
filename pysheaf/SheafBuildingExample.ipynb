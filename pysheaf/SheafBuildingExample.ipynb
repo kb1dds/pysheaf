{
 "cells": [
  {
   "cell_type": "markdown",
   "metadata": {},
   "source": [
    "# PySheaf examples\n",
    "Michael Robinson\n",
    "\n",
    "13 December 2018\n",
    "\n",
    "MIT License\n",
    "\n",
    "Copyright (c) 2018 Michael Robinson & Steven Fiacco\n",
    "\n",
    "Permission is hereby granted, free of charge, to any person obtaining a copy\n",
    "of this software and associated documentation files (the \"Software\"), to deal\n",
    "in the Software without restriction, including without limitation the rights\n",
    "to use, copy, modify, merge, publish, distribute, sublicense, and/or sell\n",
    "copies of the Software, and to permit persons to whom the Software is\n",
    "furnished to do so, subject to the following conditions:\n",
    "\n",
    "The above copyright notice and this permission notice shall be included in all\n",
    "copies or substantial portions of the Software.\n",
    "\n",
    "THE SOFTWARE IS PROVIDED \"AS IS\", WITHOUT WARRANTY OF ANY KIND, EXPRESS OR\n",
    "IMPLIED, INCLUDING BUT NOT LIMITED TO THE WARRANTIES OF MERCHANTABILITY,\n",
    "FITNESS FOR A PARTICULAR PURPOSE AND NONINFRINGEMENT. IN NO EVENT SHALL THE\n",
    "AUTHORS OR COPYRIGHT HOLDERS BE LIABLE FOR ANY CLAIM, DAMAGES OR OTHER\n",
    "LIABILITY, WHETHER IN AN ACTION OF CONTRACT, TORT OR OTHERWISE, ARISING FROM,\n",
    "OUT OF OR IN CONNECTION WITH THE SOFTWARE OR THE USE OR OTHER DEALINGS IN THE\n",
    "SOFTWARE."
   ]
  },
  {
   "cell_type": "code",
   "execution_count": 1,
   "metadata": {},
   "outputs": [],
   "source": [
    "import numpy as np\n",
    "import networkx as nx\n",
    "import matplotlib.pyplot as plt\n",
    "import pysheaf as ps"
   ]
  },
  {
   "cell_type": "markdown",
   "metadata": {},
   "source": [
    "# First example: Numerical valued sheaf"
   ]
  },
  {
   "cell_type": "markdown",
   "metadata": {},
   "source": [
    "Base spaces in PySheaf are always the Alexandrov topology on a preorder.  The preorder is specified by a NetworkX `DiGraph` though the PySheaf `Sheaf` is a subclass of `DiGraph`.  As such, each element in the preorder is a node in the graph labeled with a `Cell` object, which describes the stalk.\n",
    "\n",
    "The `Cell` object is constructed with a data type name -- for verifying the restriction maps are legal -- and a number of optional arguments that we'll ignore at the moment. While the `Cell` class handles `numpy.arrays` as default, it will happily manage others as well (see second example).\n",
    "\n",
    "So let's create a `Sheaf` on a partial order with three elements with real valued stalks."
   ]
  },
  {
   "cell_type": "code",
   "execution_count": 2,
   "metadata": {},
   "outputs": [],
   "source": [
    "shf=ps.Sheaf()\n",
    "shf.AddCell('A',ps.Cell('real')) # First argument is the name of the Cell, the second describes the stalk\n",
    "shf.AddCell('B',ps.Cell('real'))\n",
    "shf.AddCell('C',ps.Cell('real'))"
   ]
  },
  {
   "cell_type": "markdown",
   "metadata": {},
   "source": [
    "Now let's add two restriction maps.  By default, PySheaf assumes restrictions are Python function objects wrapped in `Coface` objects, which provide type checking against the stalks.  In any case, these are easily made by anonymous functions.  "
   ]
  },
  {
   "cell_type": "code",
   "execution_count": 3,
   "metadata": {},
   "outputs": [],
   "source": [
    "shf.AddCoface('A','C',ps.Coface('real','real',lambda x : (0.5 * x)))\n",
    "shf.AddCoface('B','C',ps.Coface('real','real',lambda x : x))"
   ]
  },
  {
   "cell_type": "markdown",
   "metadata": {},
   "source": [
    "Let's look at the sheaf we have created.  Since it is a subclass of `DiGraph`, we can use the NetworkX drawing tools"
   ]
  },
  {
   "cell_type": "code",
   "execution_count": 4,
   "metadata": {},
   "outputs": [
    {
     "data": {
      "text/plain": [
       "[<matplotlib.patches.FancyArrowPatch at 0x7fc8075de0b8>,\n",
       " <matplotlib.patches.FancyArrowPatch at 0x7fc81963b240>]"
      ]
     },
     "execution_count": 4,
     "metadata": {},
     "output_type": "execute_result"
    },
    {
     "data": {
      "image/png": "[encoded data removed]",
      "text/plain": [
       "<Figure size 432x288 with 1 Axes>"
      ]
     },
     "metadata": {
      "needs_background": "light"
     },
     "output_type": "display_data"
    }
   ],
   "source": [
    "pos=nx.nx_agraph.pygraphviz_layout(shf,prog='dot',args='-Grankdir=BT')\n",
    "nx.draw_networkx_labels(shf,pos)\n",
    "nx.draw_networkx_edges(shf,pos)"
   ]
  },
  {
   "cell_type": "markdown",
   "metadata": {},
   "source": [
    "Let's add an assignment! As before, we wrap the actual data in a `Assignment` class to provide type checking"
   ]
  },
  {
   "cell_type": "code",
   "execution_count": 5,
   "metadata": {},
   "outputs": [],
   "source": [
    "shf.GetCell('A').SetDataAssignment(ps.Assignment('real',1.0))\n",
    "shf.GetCell('B').SetDataAssignment(ps.Assignment('real',0.0))\n",
    "shf.GetCell('C').SetDataAssignment(ps.Assignment('real',0.5))"
   ]
  },
  {
   "cell_type": "markdown",
   "metadata": {},
   "source": [
    "What's the consistency radius of this assignment?  It should be 0.5, because the map from A->C is multiplication by 1/2.\n",
    "\n",
    "Note that we need to manually propagate out the data from each cell.  This allows us to manage when computations are done somewhat..."
   ]
  },
  {
   "cell_type": "code",
   "execution_count": 6,
   "metadata": {},
   "outputs": [
    {
     "name": "stdout",
     "output_type": "stream",
     "text": [
      "0.5\n"
     ]
    }
   ],
   "source": [
    "shf.MaximallyExtendCell('A')\n",
    "shf.MaximallyExtendCell('B')\n",
    "shf.MaximallyExtendCell('C')\n",
    "print(shf.ComputeConsistencyRadius())"
   ]
  },
  {
   "cell_type": "markdown",
   "metadata": {},
   "source": [
    "Let's now swap out for a partial assignment... by deleting the value from C"
   ]
  },
  {
   "cell_type": "code",
   "execution_count": 7,
   "metadata": {},
   "outputs": [],
   "source": [
    "shf.GetCell('C').mDataAssignmentPresent = False\n",
    "shf.ClearExtendedAssignments()"
   ]
  },
  {
   "cell_type": "markdown",
   "metadata": {},
   "source": [
    "The consistency radius of the partial assignment is computed by finding the value for C that minimizes the global consistency radius.  By rights, this is an optimization problem.  That value for C happens to be 0.25, yielding a consistency radius of 0.25.  However, since C is \"downstream\" of the data, PySheaf gives you a lower bound... it happens to be the right value!"
   ]
  },
  {
   "cell_type": "code",
   "execution_count": 8,
   "metadata": {
    "scrolled": true
   },
   "outputs": [
    {
     "name": "stdout",
     "output_type": "stream",
     "text": [
      "0.25\n"
     ]
    }
   ],
   "source": [
    "shf.MaximallyExtendCell('A')\n",
    "shf.MaximallyExtendCell('B')\n",
    "shf.MaximallyExtendCell('C')\n",
    "print(shf.ComputeConsistencyRadius())"
   ]
  },
  {
   "cell_type": "markdown",
   "metadata": {},
   "source": [
    "Trying a different assignment, which incidentally only obtains a lower bound... the actual consistency radius is 2/3."
   ]
  },
  {
   "cell_type": "code",
   "execution_count": 9,
   "metadata": {
    "scrolled": true
   },
   "outputs": [
    {
     "name": "stdout",
     "output_type": "stream",
     "text": [
      "0.5\n"
     ]
    }
   ],
   "source": [
    "shf.GetCell('A').SetDataAssignment(ps.Assignment('real',0.0))\n",
    "shf.GetCell('B').SetDataAssignment(ps.Assignment('real',1.0))\n",
    "shf.GetCell('C').SetDataAssignment(ps.Assignment('real',0.5))\n",
    "shf.MaximallyExtendCell('A')\n",
    "shf.MaximallyExtendCell('B')\n",
    "shf.MaximallyExtendCell('C')\n",
    "print(shf.ComputeConsistencyRadius()) # Should be 2/3"
   ]
  },
  {
   "cell_type": "markdown",
   "metadata": {},
   "source": [
    "OK, let's put the assignment back to what it was..."
   ]
  },
  {
   "cell_type": "code",
   "execution_count": 10,
   "metadata": {},
   "outputs": [],
   "source": [
    "shf.GetCell('A').SetDataAssignment(ps.Assignment('real',1.0))\n",
    "shf.GetCell('B').SetDataAssignment(ps.Assignment('real',0.0))\n",
    "shf.GetCell('C').SetDataAssignment(ps.Assignment('real',0.5))\n",
    "shf.MaximallyExtendCell('A')\n",
    "shf.MaximallyExtendCell('B')\n",
    "shf.MaximallyExtendCell('C')"
   ]
  },
  {
   "cell_type": "markdown",
   "metadata": {},
   "source": [
    "Let's now add another cell to our sheaf, remembering to make some cofaces to hook it up to the others."
   ]
  },
  {
   "cell_type": "code",
   "execution_count": 11,
   "metadata": {},
   "outputs": [],
   "source": [
    "shf.AddCell('D',ps.Cell('real'))\n",
    "shf.AddCoface('D','A',ps.Coface('real','real',lambda x: 2*x))\n",
    "shf.AddCoface('D','B',ps.Coface('real','real',lambda x: x))"
   ]
  },
  {
   "cell_type": "markdown",
   "metadata": {},
   "source": [
    "Obligatory sheaf diagram"
   ]
  },
  {
   "cell_type": "code",
   "execution_count": 12,
   "metadata": {},
   "outputs": [
    {
     "data": {
      "text/plain": [
       "[<matplotlib.patches.FancyArrowPatch at 0x7fc819619dd8>,\n",
       " <matplotlib.patches.FancyArrowPatch at 0x7fc8195cfdd8>,\n",
       " <matplotlib.patches.FancyArrowPatch at 0x7fc8195d5198>,\n",
       " <matplotlib.patches.FancyArrowPatch at 0x7fc8195d5470>]"
      ]
     },
     "execution_count": 12,
     "metadata": {},
     "output_type": "execute_result"
    },
    {
     "data": {
      "image/png": "[encoded data removed]",
      "text/plain": [
       "<Figure size 432x288 with 1 Axes>"
      ]
     },
     "metadata": {
      "needs_background": "light"
     },
     "output_type": "display_data"
    }
   ],
   "source": [
    "pos=nx.nx_agraph.pygraphviz_layout(shf,prog='dot',args='-Grankdir=BT')\n",
    "nx.draw_networkx_labels(shf,pos)\n",
    "nx.draw_networkx_edges(shf,pos)"
   ]
  },
  {
   "cell_type": "markdown",
   "metadata": {},
   "source": [
    "Now to extend our assignment to D, we can't just let PySheaf bound, since D is upstream of the others.  We find it by optimization by a call to `Sheaf.FuseAssignment()`.  We need to mark up the assignment to tell the optimizer which cells to solve and which to leave alone.  Since optimizers like initial guesses, we need to supply those as well!"
   ]
  },
  {
   "cell_type": "code",
   "execution_count": 13,
   "metadata": {},
   "outputs": [],
   "source": [
    "shf.GetCell('C').mOptimizationCell = True \n",
    "shf.GetCell('C').SetDataAssignment(ps.Assignment('real',0.0))\n",
    "shf.GetCell('D').mOptimizationCell = True \n",
    "shf.GetCell('D').SetDataAssignment(ps.Assignment('real',0.0))"
   ]
  },
  {
   "cell_type": "code",
   "execution_count": 14,
   "metadata": {},
   "outputs": [
    {
     "name": "stdout",
     "output_type": "stream",
     "text": [
      "Value at B is 0.0\n",
      "Value at C is [0.12962733]\n",
      "Value at A is 1.0\n",
      "Value at D is [0.31481711]\n",
      "Consistency radius is 0.37037266812324576\n"
     ]
    }
   ],
   "source": [
    "shf.FuseAssignment()\n",
    "for nd in shf.nodes():\n",
    "    print('Value at {} is {}'.format(nd,shf.GetCell(nd).mDataAssignment))\n",
    "print('Consistency radius is {}'.format(shf.ComputeConsistencyRadius()))"
   ]
  },
  {
   "cell_type": "markdown",
   "metadata": {},
   "source": [
    "Here's a different assignment... switching the values of A and B.  Note that the default optimizer is a bit sensitive to the initial values.  Selecting another one is indeed a possibility, but neither here nor there."
   ]
  },
  {
   "cell_type": "code",
   "execution_count": 15,
   "metadata": {},
   "outputs": [],
   "source": [
    "shf.GetCell('A').SetDataAssignment(ps.Assignment('real',0.0))\n",
    "shf.GetCell('B').SetDataAssignment(ps.Assignment('real',1.0))\n",
    "shf.GetCell('C').mOptimizationCell = True \n",
    "shf.GetCell('C').SetDataAssignment(ps.Assignment('real',0.5))\n",
    "shf.GetCell('D').mOptimizationCell = True \n",
    "shf.GetCell('D').SetDataAssignment(ps.Assignment('real',0.5))"
   ]
  },
  {
   "cell_type": "code",
   "execution_count": 16,
   "metadata": {},
   "outputs": [
    {
     "name": "stdout",
     "output_type": "stream",
     "text": [
      "Value at B is 1.0\n",
      "Value at C is [0.5]\n",
      "Value at A is 0.0\n",
      "Value at D is [0.33333204]\n",
      "Consistency radius is 0.6666679579940996\n"
     ]
    }
   ],
   "source": [
    "shf.FuseAssignment()\n",
    "for nd in shf.nodes():\n",
    "    print('Value at {} is {}'.format(nd,shf.GetCell(nd).mDataAssignment))\n",
    "print('Consistency radius is {}'.format(shf.ComputeConsistencyRadius()))"
   ]
  },
  {
   "cell_type": "markdown",
   "metadata": {},
   "source": [
    "Now let's compute the consistency filtration of this assignment.  We do this by computing the open sets that are consistent at different levels.  `Sheaf.ConsistentCollection()` computes an irredundant collection of open sets that are consistent to a given level.  Note that the open sets may not list all elements... just the star elements and their immediate successors."
   ]
  },
  {
   "cell_type": "code",
   "execution_count": 17,
   "metadata": {
    "scrolled": true
   },
   "outputs": [
    {
     "name": "stdout",
     "output_type": "stream",
     "text": [
      "Sets consistent to 0.01 : {frozenset({'C'})}\n",
      "Sets consistent to 0.4 : {frozenset({'C'})}\n",
      "Sets consistent to 0.6 : {frozenset({'B', 'C', 'A'})}\n",
      "Sets consistent to 0.7 : {frozenset({'B', 'A', 'D'})}\n"
     ]
    }
   ],
   "source": [
    "for threshold in [0.01, 0.4, 0.6, 0.7]:\n",
    "    print('Sets consistent to {} : {}'.format(threshold,shf.ConsistentCollection(threshold)))"
   ]
  },
  {
   "cell_type": "markdown",
   "metadata": {},
   "source": [
    "# Second example: Graph valued sheaf\n",
    "This example is a toy example in which the stalks are nodes in various graphs.  This is meant to model the situation of ontology-valued sheaves!"
   ]
  },
  {
   "cell_type": "code",
   "execution_count": 18,
   "metadata": {},
   "outputs": [],
   "source": [
    "shf2=ps.Sheaf()"
   ]
  },
  {
   "cell_type": "markdown",
   "metadata": {},
   "source": [
    "Here are three graphs, which will end up representing the stalks over three nodes"
   ]
  },
  {
   "cell_type": "code",
   "execution_count": 19,
   "metadata": {},
   "outputs": [],
   "source": [
    "g_a=nx.Graph()\n",
    "g_a.add_edges_from([(0,1),(0,2),(2,3),(2,4)])\n",
    "g_b=nx.Graph()\n",
    "g_b.add_edges_from([(0,4),(0,2),(2,1),(2,3)])\n",
    "g_c=nx.Graph()\n",
    "g_c.add_edges_from([(0,1),(0,2),(0,3)])"
   ]
  },
  {
   "cell_type": "markdown",
   "metadata": {},
   "source": [
    "Here's a metric on the nodes of any graph.  We'll use this in the `Cell` instances within our sheaf"
   ]
  },
  {
   "cell_type": "code",
   "execution_count": 20,
   "metadata": {},
   "outputs": [],
   "source": [
    "def graph_metric(g,n1,n2):\n",
    "    return(len(nx.shortest_path(g,n1,n2))-1)"
   ]
  },
  {
   "cell_type": "markdown",
   "metadata": {},
   "source": [
    "Here are the stalks for our sheaf.  Notice both the types and the metric!"
   ]
  },
  {
   "cell_type": "code",
   "execution_count": 21,
   "metadata": {},
   "outputs": [],
   "source": [
    "shf2.AddCell('A',ps.Cell('g_a',compareAssignmentsMethod=lambda x,y: graph_metric(g_a,x,y)))\n",
    "shf2.AddCell('B',ps.Cell('g_b',compareAssignmentsMethod=lambda x,y: graph_metric(g_b,x,y)))\n",
    "shf2.AddCell('C',ps.Cell('g_c',compareAssignmentsMethod=lambda x,y: graph_metric(g_c,x,y)))"
   ]
  },
  {
   "cell_type": "markdown",
   "metadata": {},
   "source": [
    "The restrictions are defined by graph morphisms...  For this small example, they're just lookup tables.  But notice the type checking!"
   ]
  },
  {
   "cell_type": "code",
   "execution_count": 22,
   "metadata": {},
   "outputs": [],
   "source": [
    "r_ac = { 0: 0, 1: 1, 2: 0, 3: 2, 4: 3}\n",
    "r_bc = { 0: 0, 1: 1, 2: 0, 3: 2, 4: 3}\n",
    "shf2.AddCoface('A','C',ps.Coface('g_a','g_c',lambda x : r_ac[x]))\n",
    "shf2.AddCoface('B','C',ps.Coface('g_b','g_c',lambda x : r_bc[x]))"
   ]
  },
  {
   "cell_type": "markdown",
   "metadata": {},
   "source": [
    "Obligatory sheaf diagram... again."
   ]
  },
  {
   "cell_type": "code",
   "execution_count": 23,
   "metadata": {},
   "outputs": [
    {
     "data": {
      "text/plain": [
       "[<matplotlib.patches.FancyArrowPatch at 0x7fc819672e10>,\n",
       " <matplotlib.patches.FancyArrowPatch at 0x7fc819596e48>]"
      ]
     },
     "execution_count": 23,
     "metadata": {},
     "output_type": "execute_result"
    },
    {
     "data": {
      "image/png": "[encoded data removed]",
      "text/plain": [
       "<Figure size 432x288 with 1 Axes>"
      ]
     },
     "metadata": {
      "needs_background": "light"
     },
     "output_type": "display_data"
    }
   ],
   "source": [
    "pos=nx.nx_agraph.pygraphviz_layout(shf2,prog='dot',args='-Grankdir=BT')\n",
    "nx.draw_networkx_labels(shf2,pos)\n",
    "nx.draw_networkx_edges(shf2,pos)"
   ]
  },
  {
   "cell_type": "markdown",
   "metadata": {},
   "source": [
    "OK, now let's get some data.  First, a global section"
   ]
  },
  {
   "cell_type": "code",
   "execution_count": 24,
   "metadata": {},
   "outputs": [],
   "source": [
    "shf2.GetCell('A').SetDataAssignment(ps.Assignment('g_a',2))\n",
    "shf2.GetCell('B').SetDataAssignment(ps.Assignment('g_b',2))\n",
    "shf2.GetCell('C').SetDataAssignment(ps.Assignment('g_c',0))"
   ]
  },
  {
   "cell_type": "code",
   "execution_count": 25,
   "metadata": {},
   "outputs": [
    {
     "name": "stdout",
     "output_type": "stream",
     "text": [
      "0.0\n"
     ]
    }
   ],
   "source": [
    "shf2.MaximallyExtendCell('A')\n",
    "shf2.MaximallyExtendCell('B')\n",
    "shf2.MaximallyExtendCell('C')\n",
    "print(shf2.ComputeConsistencyRadius()) # Should return zero"
   ]
  },
  {
   "cell_type": "markdown",
   "metadata": {},
   "source": [
    "Not a global section"
   ]
  },
  {
   "cell_type": "code",
   "execution_count": 26,
   "metadata": {},
   "outputs": [],
   "source": [
    "shf2.GetCell('A').SetDataAssignment(ps.Assignment('g_a',3))\n",
    "shf2.GetCell('B').SetDataAssignment(ps.Assignment('g_b',2))\n",
    "shf2.GetCell('C').SetDataAssignment(ps.Assignment('g_c',0))"
   ]
  },
  {
   "cell_type": "code",
   "execution_count": 27,
   "metadata": {},
   "outputs": [
    {
     "name": "stdout",
     "output_type": "stream",
     "text": [
      "1.0\n"
     ]
    }
   ],
   "source": [
    "shf2.MaximallyExtendCell('A')\n",
    "shf2.MaximallyExtendCell('B')\n",
    "shf2.MaximallyExtendCell('C')\n",
    "print(shf2.ComputeConsistencyRadius()) # Should return 1.0"
   ]
  },
  {
   "cell_type": "markdown",
   "metadata": {},
   "source": [
    "Consistency filtration is computed in the same way as before!"
   ]
  },
  {
   "cell_type": "code",
   "execution_count": 28,
   "metadata": {
    "scrolled": true
   },
   "outputs": [
    {
     "name": "stdout",
     "output_type": "stream",
     "text": [
      "Sets consistent to 0.01 : {frozenset({'B', 'C'})}\n",
      "Sets consistent to 1.5 : {frozenset({'B', 'C', 'A'})}\n"
     ]
    }
   ],
   "source": [
    "for threshold in [0.01, 1.5]:\n",
    "    print('Sets consistent to {} : {}'.format(threshold,shf2.ConsistentCollection(threshold)))"
   ]
  },
  {
   "cell_type": "markdown",
   "metadata": {},
   "source": [
    "The problem now is if we had a partial assignment (for instance if C were blank)... The default optimizer in `Sheaf.FuseAssignment()` doesn't know what to do with our graphy stalks.  We *can* tell it by defining custom optimization methods, but I haven't done that.   "
   ]
  },
  {
   "cell_type": "markdown",
   "metadata": {},
   "source": [
    "# Coda: Constant sheaves"
   ]
  },
  {
   "cell_type": "markdown",
   "metadata": {},
   "source": [
    "What if we only have a graph, can we get a sheaf?  Yes! For every partial order, there is automatically a family of sheaves, called *constant sheaves*.  These are defined by a single stalk dimension, and all restriction maps are identity functions.\n",
    "\n",
    "PySheaf makes it easy to construct these, using a convenience function from the `analysisTools` module"
   ]
  },
  {
   "cell_type": "code",
   "execution_count": 29,
   "metadata": {},
   "outputs": [],
   "source": [
    "import analysisTools"
   ]
  },
  {
   "cell_type": "markdown",
   "metadata": {},
   "source": [
    "Any graph we have -- which includes sheaves previously constructed -- can be used to construct a new constant sheaf.  Here are our previous two sheaves used as input."
   ]
  },
  {
   "cell_type": "code",
   "execution_count": 30,
   "metadata": {},
   "outputs": [],
   "source": [
    "shf_constant = analysisTools.BuildConstantSheaf(shf)\n",
    "shf2_constant = analysisTools.BuildConstantSheaf(shf2,dataDimension=2)"
   ]
  },
  {
   "cell_type": "markdown",
   "metadata": {},
   "source": [
    "The process of constructing a constant sheaf retains the underlying graph structure..."
   ]
  },
  {
   "cell_type": "code",
   "execution_count": 31,
   "metadata": {},
   "outputs": [
    {
     "data": {
      "text/plain": [
       "[<matplotlib.patches.FancyArrowPatch at 0x7fc81955c278>,\n",
       " <matplotlib.patches.FancyArrowPatch at 0x7fc8194fdac8>,\n",
       " <matplotlib.patches.FancyArrowPatch at 0x7fc8194fde48>,\n",
       " <matplotlib.patches.FancyArrowPatch at 0x7fc819502160>]"
      ]
     },
     "execution_count": 31,
     "metadata": {},
     "output_type": "execute_result"
    },
    {
     "data": {
      "image/png": "[encoded data removed]",
      "text/plain": [
       "<Figure size 432x288 with 1 Axes>"
      ]
     },
     "metadata": {
      "needs_background": "light"
     },
     "output_type": "display_data"
    }
   ],
   "source": [
    "pos=nx.nx_agraph.pygraphviz_layout(shf_constant,prog='dot',args='-Grankdir=BT')\n",
    "nx.draw_networkx_labels(shf_constant,pos)\n",
    "nx.draw_networkx_edges(shf_constant,pos)"
   ]
  },
  {
   "cell_type": "markdown",
   "metadata": {},
   "source": [
    "... while stripping away the restrictions."
   ]
  },
  {
   "cell_type": "code",
   "execution_count": 32,
   "metadata": {},
   "outputs": [
    {
     "name": "stdout",
     "output_type": "stream",
     "text": [
      "('B', 'C'): [[1.]]\n",
      "('A', 'C'): [[1.]]\n",
      "('D', 'B'): [[1.]]\n",
      "('D', 'A'): [[1.]]\n"
     ]
    }
   ],
   "source": [
    "for edge in shf_constant.edges():\n",
    "    print( str(edge) + \": \" + str(shf_constant.GetCoface(edge[0],edge[1]).mEdgeMethod.matrix))"
   ]
  },
  {
   "cell_type": "markdown",
   "metadata": {},
   "source": [
    "If the `dataDimension` is not the default value of 1, then restriction maps are identity maps"
   ]
  },
  {
   "cell_type": "code",
   "execution_count": 33,
   "metadata": {},
   "outputs": [
    {
     "name": "stdout",
     "output_type": "stream",
     "text": [
      "('B', 'C'): [[1. 0.]\n",
      " [0. 1.]]\n",
      "('A', 'C'): [[1. 0.]\n",
      " [0. 1.]]\n"
     ]
    }
   ],
   "source": [
    "for edge in shf2_constant.edges():\n",
    "    print( str(edge) + \": \" + str(shf2_constant.GetCoface(edge[0],edge[1]).mEdgeMethod.matrix))"
   ]
  }
 ],
 "metadata": {
  "kernelspec": {
   "display_name": "Python 3",
   "language": "python",
   "name": "python3"
  },
  "language_info": {
   "codemirror_mode": {
    "name": "ipython",
    "version": 3
   },
   "file_extension": ".py",
   "mimetype": "text/x-python",
   "name": "python",
   "nbconvert_exporter": "python",
   "pygments_lexer": "ipython3",
   "version": "3.7.1"
  }
 },
 "nbformat": 4,
 "nbformat_minor": 2
}
